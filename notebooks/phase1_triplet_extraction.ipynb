{
 "cells": [
  {
   "cell_type": "markdown",
   "metadata": {},
   "source": [
    "# Phase 1: Extracting Triplets from Informal Proofs"
   ]
  },
  {
   "cell_type": "markdown",
   "metadata": {},
   "source": [
    "Add src to the Python Path in the Notebook"
   ]
  },
  {
   "cell_type": "code",
   "execution_count": 1,
   "metadata": {},
   "outputs": [],
   "source": [
    "%load_ext autoreload\n",
    "%autoreload 2\n",
    "import sys\n",
    "import os\n",
    "\n",
    "\n",
    "# Add the project root directory to the Python path\n",
    "sys.path.append(os.path.abspath(os.path.join(\"..\")))"
   ]
  },
  {
   "cell_type": "markdown",
   "metadata": {},
   "source": [
    "## 1. Read Informal Proves\n",
    "Read the LaTeX file. This file contains the informal proofs of the theorems in the book."
   ]
  },
  {
   "cell_type": "code",
   "execution_count": 13,
   "metadata": {},
   "outputs": [
    {
     "data": {
      "text/latex": [
       "## Question:\n",
       "\n",
       "Prove Theorem 2.3(iv): $(A B)^{T}=B^{T} A^{T}$.\n",
       "\n",
       "## Answer:\n",
       "\n",
       "Let $A=\\left[a_{i k}\\right]$ and $B=\\left[b_{k j}\\right]$. Then the $i j$-entry of $A B$ is\n",
       "\n",
       "$$\n",
       "    a_{i 1} b_{1 j}+a_{i 2} b_{2 j}+\\cdots+a_{i m} b_{m j}\n",
       "$$\n",
       "\n",
       "This is the $j i$-entry (reverse order) of $(A B)^{T}$. Now column $j$ of $B$ becomes row $j$ of $B^{T}$, and row $i$ of $A$ becomes column $i$ of $A^{T}$. Thus, the $i j$-entry of $B^{T} A^{T}$ is\n",
       "\n",
       "$$\n",
       "    \\left[b_{1 j}, b_{2 j}, \\ldots, b_{m j}\\right]\\left[a_{i 1}, a_{i 2}, \\ldots, a_{i m}\\right]^{T}=b_{1 j} a_{i 1}+b_{2 j} a_{i 2}+\\cdots+b_{m j} a_{i m}\n",
       "$$\n",
       "\n",
       "Thus, $(A B)^{T}=B^{T} A^{T}$ on because the corresponding entries are equal."
      ],
      "text/plain": [
       "<IPython.core.display.Latex object>"
      ]
     },
     "metadata": {},
     "output_type": "display_data"
    }
   ],
   "source": [
    "from IPython.display import display, Math, Latex\n",
    "import re\n",
    "from src.utils.file_utils import read_proof\n",
    "\n",
    "# Load LaTeX proof\n",
    "proof_latex = read_proof(\"data/proofs/english/problem1/proof1.tex\")\n",
    "\n",
    "# Find the start and end positions\n",
    "start = proof_latex.find(r\"\\begin{document}\") + len(r\"\\begin{document}\")\n",
    "end = proof_latex.find(r\"\\end{document}\")\n",
    "\n",
    "# Extract the content between \\begin{document} and \\end{document}\n",
    "informal_proof = proof_latex[start:end].strip()\n",
    "\n",
    "\n",
    "# Replace any \\section{...} with ## ...\n",
    "informal_proof = re.sub(r\"\\\\section\\{([^}]+)\\}\", r\"## \\1\", informal_proof)\n",
    "\n",
    "# Display the LaTeX content\n",
    "display(Latex(informal_proof))"
   ]
  },
  {
   "cell_type": "markdown",
   "metadata": {},
   "source": [
    "## 2. Extract Triplet proofs from Informal Proofs"
   ]
  },
  {
   "cell_type": "code",
   "execution_count": 15,
   "metadata": {},
   "outputs": [
    {
     "data": {
      "text/plain": [
       "Triplet(entities=[Entity(id='theorem_2.3_iv', name='Theorem 2.3(iv)', label='Theorem', type='Theorem'), Entity(id='matrix_A', name='Matrix A', label='Matrix', type='Matrix'), Entity(id='matrix_B', name='Matrix B', label='Matrix', type='Matrix'), Entity(id='entry_AB', name='Entry of AB', label='Entry', type='Matrix Entry'), Entity(id='entry_ATB', name='Entry of (AB)^T', label='Entry', type='Matrix Entry'), Entity(id='entry_BT_AT', name='Entry of B^T A^T', label='Entry', type='Matrix Entry'), Entity(id='conclusion', name='Conclusion', label='Conclusion', type='Conclusion')], relations=[Relation(source='theorem_2.3_iv', target='conclusion', type='proves', name='Proves'), Relation(source='matrix_A', target='entry_AB', type='defines', name='Defines'), Relation(source='matrix_B', target='entry_AB', type='defines', name='Defines'), Relation(source='entry_AB', target='entry_ATB', type='describes', name='Describes'), Relation(source='matrix_B', target='entry_BT_AT', type='describes', name='Describes'), Relation(source='matrix_A', target='entry_BT_AT', type='describes', name='Describes'), Relation(source='entry_ATB', target='entry_BT_AT', type='equals', name='Equals'), Relation(source='entry_BT_AT', target='conclusion', type='supports', name='Supports')])"
      ]
     },
     "execution_count": 15,
     "metadata": {},
     "output_type": "execute_result"
    }
   ],
   "source": [
    "from src.phase1.extract_triplets import extract_triplets\n",
    "\n",
    "# Extract triplets\n",
    "triplet = extract_triplets(informal_proof)\n",
    "triplet"
   ]
  },
  {
   "cell_type": "code",
   "execution_count": 16,
   "metadata": {},
   "outputs": [
    {
     "data": {
      "text/plain": [
       "Triplet(entities=[Entity(id='theorem_2.3_iv', name='Theorem 2.3(iv)', label='Theorem', type='Theorem'), Entity(id='matrix_A', name='Matrix A', label='Matrix', type='Matrix'), Entity(id='matrix_B', name='Matrix B', label='Matrix', type='Matrix'), Entity(id='entry_AB', name='Entry of AB', label='Entry', type='Matrix Entry'), Entity(id='entry_ATB', name='Entry of (AB)^T', label='Entry', type='Matrix Entry'), Entity(id='entry_BT_AT', name='Entry of B^T A^T', label='Entry', type='Matrix Entry'), Entity(id='conclusion', name='Conclusion', label='Conclusion', type='Conclusion')], relations=[Relation(source='theorem_2.3_iv', target='conclusion', type='proves', name='Proves'), Relation(source='matrix_A', target='entry_AB', type='defines', name='Defines'), Relation(source='matrix_B', target='entry_AB', type='defines', name='Defines'), Relation(source='entry_AB', target='entry_ATB', type='describes', name='Describes'), Relation(source='matrix_B', target='entry_BT_AT', type='describes', name='Describes'), Relation(source='matrix_A', target='entry_BT_AT', type='describes', name='Describes'), Relation(source='entry_ATB', target='entry_BT_AT', type='equals', name='Equals'), Relation(source='entry_BT_AT', target='conclusion', type='supports', name='Supports')])"
      ]
     },
     "execution_count": 16,
     "metadata": {},
     "output_type": "execute_result"
    }
   ],
   "source": [
    "triplet"
   ]
  },
  {
   "cell_type": "markdown",
   "metadata": {},
   "source": [
    "## 3. Store Triplets into Neo4J DB"
   ]
  },
  {
   "cell_type": "code",
   "execution_count": 17,
   "metadata": {},
   "outputs": [],
   "source": [
    "from src.utils.neo4j_utils import Neo4JUtils\n",
    "\n",
    "# Initialize Neo4JUtils\n",
    "neo4j = Neo4JUtils(\"bolt://localhost:7687\", (\"neo4j\", \"password\"))\n",
    "\n",
    "# Clean the database\n",
    "neo4j.clean_database()\n",
    "\n",
    "# Add nodes and relationships\n",
    "for entity in triplet.entities:\n",
    "    neo4j.create_node(entity)\n",
    "for relation in triplet.relations:\n",
    "    neo4j.create_relation(relation)\n",
    "\n",
    "# Close the connection\n",
    "neo4j.close()"
   ]
  },
  {
   "cell_type": "code",
   "execution_count": 18,
   "metadata": {},
   "outputs": [
    {
     "name": "stderr",
     "output_type": "stream",
     "text": [
      "[autoreload of src.utils.neo4j_utils failed: Traceback (most recent call last):\n",
      "  File \"/home/ehsan/Documents/Fanavaran/MPEC/.venv/lib/python3.12/site-packages/IPython/extensions/autoreload.py\", line 283, in check\n",
      "    superreload(m, reload, self.old_objects)\n",
      "  File \"/home/ehsan/Documents/Fanavaran/MPEC/.venv/lib/python3.12/site-packages/IPython/extensions/autoreload.py\", line 483, in superreload\n",
      "    module = reload(module)\n",
      "             ^^^^^^^^^^^^^^\n",
      "  File \"/usr/lib/python3.12/importlib/__init__.py\", line 131, in reload\n",
      "    _bootstrap._exec(spec, module)\n",
      "  File \"<frozen importlib._bootstrap>\", line 866, in _exec\n",
      "  File \"<frozen importlib._bootstrap_external>\", line 995, in exec_module\n",
      "  File \"<frozen importlib._bootstrap>\", line 488, in _call_with_frames_removed\n",
      "  File \"/home/ehsan/Documents/Fanavaran/MPEC/src/utils/neo4j_utils.py\", line 3, in <module>\n",
      "    from phase1.schemas import Entity, Relation\n",
      "ModuleNotFoundError: No module named 'phase1'\n",
      "]\n"
     ]
    },
    {
     "ename": "AttributeError",
     "evalue": "'Neo4JUtils' object has no attribute 'increment_step'",
     "output_type": "error",
     "traceback": [
      "\u001b[31m---------------------------------------------------------------------------\u001b[39m",
      "\u001b[31mAttributeError\u001b[39m                            Traceback (most recent call last)",
      "\u001b[36mCell\u001b[39m\u001b[36m \u001b[39m\u001b[32mIn[18]\u001b[39m\u001b[32m, line 16\u001b[39m\n\u001b[32m     13\u001b[39m     neo4j.create_relation(relation)  \u001b[38;5;66;03m# Uses the current step (default is 0)\u001b[39;00m\n\u001b[32m     15\u001b[39m \u001b[38;5;66;03m# Increment the step counter for the next set of changes\u001b[39;00m\n\u001b[32m---> \u001b[39m\u001b[32m16\u001b[39m \u001b[43mneo4j\u001b[49m\u001b[43m.\u001b[49m\u001b[43mincrement_step\u001b[49m()\n\u001b[32m     18\u001b[39m \u001b[38;5;66;03m# Clean the database (delete nodes and relationships with step > 1)\u001b[39;00m\n\u001b[32m     19\u001b[39m neo4j.clean_database(step=\u001b[32m1\u001b[39m)\n",
      "\u001b[31mAttributeError\u001b[39m: 'Neo4JUtils' object has no attribute 'increment_step'"
     ]
    }
   ],
   "source": [
    "from src.utils.neo4j_utils import Neo4JUtils\n",
    "\n",
    "# Initialize Neo4JUtils\n",
    "neo4j = Neo4JUtils(\"bolt://localhost:7687\", (\"neo4j\", \"password\"))\n",
    "\n",
    "# Clean the database (delete all nodes and relationships)\n",
    "neo4j.clean_database()\n",
    "\n",
    "# Add nodes and relationships with step tracking\n",
    "for entity in triplet.entities:\n",
    "    neo4j.create_node(entity)  # Uses the current step (default is 0)\n",
    "for relation in triplet.relations:\n",
    "    neo4j.create_relation(relation)  # Uses the current step (default is 0)\n",
    "\n",
    "# Increment the step counter for the next set of changes\n",
    "neo4j.increment_step()\n",
    "\n",
    "# Clean the database (delete nodes and relationships with step > 1)\n",
    "neo4j.clean_database(step=1)\n",
    "\n",
    "# Add or modify nodes and relationships in the next step\n",
    "# Example:\n",
    "# neo4j.create_node(new_entity)  # This will use the updated step counter (1)\n",
    "# neo4j.create_relation(new_relation)  # This will use the updated step counter (1)\n",
    "\n",
    "# Close the connection\n",
    "neo4j.close()"
   ]
  },
  {
   "cell_type": "code",
   "execution_count": null,
   "metadata": {},
   "outputs": [],
   "source": []
  }
 ],
 "metadata": {
  "kernelspec": {
   "display_name": ".venv",
   "language": "python",
   "name": "python3"
  },
  "language_info": {
   "codemirror_mode": {
    "name": "ipython",
    "version": 3
   },
   "file_extension": ".py",
   "mimetype": "text/x-python",
   "name": "python",
   "nbconvert_exporter": "python",
   "pygments_lexer": "ipython3",
   "version": "3.12.3"
  }
 },
 "nbformat": 4,
 "nbformat_minor": 2
}
