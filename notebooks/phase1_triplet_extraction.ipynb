{
 "cells": [
  {
   "cell_type": "markdown",
   "metadata": {},
   "source": [
    "# Phase 1: Extracting Triplets from Informal Proofs"
   ]
  },
  {
   "cell_type": "markdown",
   "metadata": {},
   "source": [
    "Add src to the Python Path in the Notebook"
   ]
  },
  {
   "cell_type": "code",
   "execution_count": 4,
   "metadata": {},
   "outputs": [],
   "source": [
    "%load_ext autoreload\n",
    "%autoreload 2\n",
    "import sys\n",
    "import os\n",
    "\n",
    "\n",
    "# Add the project root directory to the Python path\n",
    "sys.path.append(os.path.abspath(os.path.join(\"..\")))"
   ]
  },
  {
   "cell_type": "code",
   "execution_count": 24,
   "metadata": {},
   "outputs": [],
   "source": [
    "from src.phase1.extract_triplets import extract_triplets\n",
    "from src.utils.neo4j_utils import Neo4JUtils\n",
    "from src.utils.file_utils import read_proof\n",
    "\n",
    "# Load LaTeX proof\n",
    "proof = read_proof(\"data/proofs/proof1.tex\")\n",
    "# print(proof)\n",
    "\n",
    "# Extract triplets\n",
    "triplet = extract_triplets(proof)\n",
    "\n",
    "# Store in Neo4J\n",
    "neo4j = Neo4JUtils(\"bolt://localhost:7687\", (\"neo4j\", \"password\"))\n",
    "for entity in triplet.entities:\n",
    "    neo4j.create_node(entity)\n",
    "for relation in triplet.relations:\n",
    "    neo4j.create_relation(relation)\n",
    "neo4j.close()"
   ]
  },
  {
   "cell_type": "code",
   "execution_count": 25,
   "metadata": {},
   "outputs": [
    {
     "data": {
      "text/plain": [
       "Triplet(entities=[Entity(id='theorem_2.3_iv', name='Theorem 2.3(iv)', label='Theorem', type='Theorem'), Entity(id='matrix_A', name='Matrix A', label='Matrix', type='Matrix'), Entity(id='matrix_B', name='Matrix B', label='Matrix', type='Matrix'), Entity(id='entry_AB', name='Entry of AB', label='Entry', type='Matrix Entry'), Entity(id='entry_ATB', name='Entry of B^T A^T', label='Entry', type='Matrix Entry'), Entity(id='result', name='(A B)^{T}=B^{T} A^{T}', label='Result', type='Equation')], relations=[Relation(source='theorem_2.3_iv', target='result', type='concludes', name='concludes'), Relation(source='matrix_A', target='entry_AB', type='defines', name='defines'), Relation(source='matrix_B', target='entry_AB', type='defines', name='defines'), Relation(source='entry_AB', target='entry_ATB', type='transforms', name='transforms'), Relation(source='matrix_B', target='entry_ATB', type='transforms', name='transforms'), Relation(source='matrix_A', target='entry_ATB', type='transforms', name='transforms'), Relation(source='entry_AB', target='result', type='equals', name='equals'), Relation(source='entry_ATB', target='result', type='equals', name='equals')])"
      ]
     },
     "execution_count": 25,
     "metadata": {},
     "output_type": "execute_result"
    }
   ],
   "source": [
    "triplet"
   ]
  },
  {
   "cell_type": "code",
   "execution_count": null,
   "metadata": {},
   "outputs": [],
   "source": []
  }
 ],
 "metadata": {
  "kernelspec": {
   "display_name": ".venv",
   "language": "python",
   "name": "python3"
  },
  "language_info": {
   "codemirror_mode": {
    "name": "ipython",
    "version": 3
   },
   "file_extension": ".py",
   "mimetype": "text/x-python",
   "name": "python",
   "nbconvert_exporter": "python",
   "pygments_lexer": "ipython3",
   "version": "3.12.3"
  }
 },
 "nbformat": 4,
 "nbformat_minor": 2
}
