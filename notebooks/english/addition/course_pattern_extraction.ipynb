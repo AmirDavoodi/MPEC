{
 "cells": [
  {
   "cell_type": "markdown",
   "id": "2a751e2f",
   "metadata": {},
   "source": [
    "# Course Pattern Extraction and Application\n",
    "\n",
    "This notebook implements a two-phase approach for:\n",
    "1. Extracting graph-based patterns from a course about mathematical induction\n",
    "2. Using those patterns to construct knowledge graphs for specific proof examples\n",
    "\n",
    "---"
   ]
  },
  {
   "cell_type": "markdown",
   "id": "9aca23a8",
   "metadata": {},
   "source": [
    "## Phase 1: Course Pattern Extraction\n",
    "\n",
    "First, we'll extract the graph-based pattern from the mathematical induction course."
   ]
  },
  {
   "cell_type": "code",
   "execution_count": 5,
   "id": "8d428c69",
   "metadata": {},
   "outputs": [
    {
     "name": "stdout",
     "output_type": "stream",
     "text": [
      "The autoreload extension is already loaded. To reload it, use:\n",
      "  %reload_ext autoreload\n"
     ]
    }
   ],
   "source": [
    "%load_ext autoreload\n",
    "%autoreload 2\n",
    "import sys\n",
    "import os\n",
    "\n",
    "# Add the project root directory to the Python path\n",
    "sys.path.append(os.path.abspath(os.path.join(\"../../..\")))"
   ]
  },
  {
   "cell_type": "code",
   "execution_count": 7,
   "id": "eb83149d",
   "metadata": {},
   "outputs": [],
   "source": [
    "from IPython.display import display, Latex\n",
    "import re\n",
    "from src.utils.file_utils import read_proof\n",
    "from src.phase1.extract_triplets import extract_triplets\n",
    "from src.utils.neo4j_utils import Neo4JUtils\n",
    "\n",
    "# Load the course content\n",
    "course_latex = read_proof(\"../../data/courses/addition/course.tex\")\n",
    "\n",
    "# # Extract content between \\begin{document} and \\end{document}\n",
    "# start = course_latex.find(r\"\\begin{document}\") + len(r\"\\begin{document}\")\n",
    "# end = course_latex.find(r\"\\end{document}\")\n",
    "# proof = course_latex[start:end].strip()\n",
    "\n",
    "# # Convert LaTeX to markdown-like format\n",
    "# proof = re.sub(r\"\\\\section\\{([^}]+)\\}\", r\"## \\1\", proof)\n",
    "# proof = re.sub(r\"\\\\subsection\\{([^}]+)\\}\", r\"### \\1\", proof)\n",
    "# proof = re.sub(r\"\\\\title\\{([^}]+)\\}\", r\"# \\1\", proof)\n",
    "# proof = re.sub(r\"\\\\maketitle\", \"\", proof)\n",
    "# proof = re.sub(r\"\\\\begin{itemize}\", \"\", proof)\n",
    "# proof = re.sub(r\"\\\\end{itemize}\", \"\", proof)\n",
    "# proof = re.sub(r\"\\\\item\\s+\\*\\*([^:]+):\\*\\*\", r\"- **\\1:**\", proof)\n",
    "\n",
    "# # Display the course content\n",
    "# display(Latex(proof))"
   ]
  },
  {
   "cell_type": "markdown",
   "id": "ff16d995",
   "metadata": {},
   "source": [
    "### Extract Course Pattern\n",
    "\n",
    "We'll use a specialized prompt to extract the pattern of mathematical induction from the course content."
   ]
  },
  {
   "cell_type": "code",
   "execution_count": null,
   "id": "bca4c3d2",
   "metadata": {},
   "outputs": [
    {
     "name": "stdout",
     "output_type": "stream",
     "text": [
      "[SystemMessage(content='You are an expert in mathematical proof analysis, specializing in extracting structured knowledge graph from mathematical texts. Your task is to identify key steps in a mathematical proof and relationships in mathematical content and represent them as knowledge graph triplets.', additional_kwargs={}, response_metadata={}), HumanMessage(content='\\nGiven the following mathematic course content in LaTeX format, extract the key steps of the mathematical proof in fine grainded detailed steps and structure these steps to form the knowledge graph triplets as the pattern of explanatory chain (reasoning) for this course.\\n\\nFocus on identifying:\\n1. The steps of mathematical proof in informal language\\n2. The relationships between these proof steps as a chain or sequence\\n3. The typical structure and flow of mathematical proofs of this type\\n4. Key steps and their relationships\\n5. The final triplets of the knowledge graph should have a single or multiple start and single or multiple end nodes/entities which are the steps in the proof. Please make sure the final graph is a single connected component and have label of the start and end nodes/entities.\\n\\nExtract triplets in the form <Source Step/Entity, Relationship, Target Step/Entity> that represent this pattern.\\n\\nCourse Content:\\n```\\n\\\\documentclass{article}\\n\\\\usepackage{amsmath}\\n\\\\usepackage{amssymb}\\n\\\\title{Introduction to Addition via Recursion}\\n\\\\author{}\\n\\\\date{}\\n\\n\\\\begin{document}\\n\\\\maketitle\\n\\n\\\\section{Recursive Definition}\\nFor non-negative integers \\\\(a\\\\) and \\\\(b\\\\):\\n\\n\\\\[\\n    a + b = \\\\begin{cases}\\n        a                 & \\\\text{if } b = 0 \\\\quad \\\\text{(Base Case)}      \\\\\\\\\\n        (a + (b - 1)) + 1 & \\\\text{if } b > 0 \\\\quad \\\\text{(Recursive Case)}\\n    \\\\end{cases}\\n\\\\]\\n\\n\\\\section{Expanded Recursion Steps}\\nThe recursive case systematically reduces any addition problem to successive simpler cases through these steps:\\n\\n\\\\begin{enumerate}\\n    \\\\item \\\\textbf{Initial Problem}: \\\\(a + b\\\\) where \\\\(b > 0\\\\)\\n\\n    \\\\item \\\\textbf{Recursive Decomposition}:\\n          \\\\[\\n              a + b = (a + \\\\underbrace{(b - 1)}_{\\\\text{Simpler term}}) + 1\\n          \\\\]\\n          This creates:\\n          \\\\begin{itemize}\\n              \\\\item A simpler subproblem: \\\\(a + (b - 1)\\\\)\\n              \\\\item A pending operation: \\\\(+ 1\\\\)\\n          \\\\end{itemize}\\n\\n    \\\\item \\\\textbf{Iterative Reduction}:\\n          Repeat until reaching base case:\\n          \\\\[\\n              \\\\begin{aligned}\\n                   & a + b                              \\\\\\\\\\n                   & \\\\Downarrow                         \\\\\\\\\\n                   & (a + (b-1)) + 1                    \\\\\\\\\\n                   & \\\\Downarrow                         \\\\\\\\\\n                   & ((a + (b-2)) + 1) + 1              \\\\\\\\\\n                   & \\\\Downarrow                         \\\\\\\\\\n                   & \\\\quad \\\\vdots                       \\\\\\\\\\n                   & \\\\Downarrow                         \\\\\\\\\\n                   & (\\\\cdots((a + 0) + 1) + \\\\cdots + 1) \\\\\\\\\\n              \\\\end{aligned}\\n          \\\\]\\n\\n    \\\\item \\\\textbf{Base Case Resolution}:\\n          When \\\\(b - n = 0\\\\):\\n          \\\\[\\n              \\\\underbrace{(\\\\cdots((a + 0)}_{\\\\text{Base case}} \\\\underbrace{+ 1) + \\\\cdots + 1)}_{b \\\\text{ times}}\\n          \\\\]\\n\\n    \\\\item \\\\textbf{Result Construction}:\\n          \\\\[\\n              a + \\\\underbrace{1 + 1 + \\\\cdots + 1}_{b \\\\text{ times}} = a + b\\n          \\\\]\\n\\\\end{enumerate}\\n\\n\\\\section{Complete Recursion Example}\\nFor \\\\(3 + 2\\\\):\\n\\n\\\\[\\n    \\\\begin{aligned}\\n        3 + 2 & = (3 + 1) + 1 \\\\quad       & \\\\text{(First decomposition)}  \\\\\\\\\\n              & = ((3 + 0) + 1) + 1 \\\\quad & \\\\text{(Second decomposition)} \\\\\\\\\\n              & = (3 + 1) + 1 \\\\quad       & \\\\text{(Base case applied)}    \\\\\\\\\\n              & = 4 + 1 \\\\quad             & \\\\text{(First increment)}      \\\\\\\\\\n              & = 5 \\\\quad                 & \\\\text{(Final result)}\\n    \\\\end{aligned}\\n\\\\]\\n\\n\\\\section*{Recursion Pattern}\\nGeneral form for \\\\(a + b\\\\):\\n\\n\\\\[\\n    \\\\begin{aligned}\\n        a + b & = (a + (b-1)) + 1                                       \\\\\\\\\\n              & = ((a + (b-2)) + 1) + 1                                 \\\\\\\\\\n              & \\\\;\\\\;\\\\vdots                                              \\\\\\\\\\n              & = (\\\\cdots((a + 0) + 1) + \\\\cdots + 1)                    \\\\\\\\\\n              & = a + \\\\underbrace{1 + 1 + \\\\cdots + 1}_{b \\\\text{ times}} \\\\\\\\\\n              & = a + b\\n    \\\\end{aligned}\\n\\\\]\\n\\n\\\\end{document}\\n```\\n', additional_kwargs={}, response_metadata={})]\n",
      "entities=[Entity(id='1', name='Initial Problem', label='Start of the proof', type='step', start=True, end=False), Entity(id='2', name='Recursive Decomposition', label='Decomposing the problem', type='step', start=False, end=False), Entity(id='3', name='Iterative Reduction', label='Reducing the problem iteratively', type='step', start=False, end=False), Entity(id='4', name='Base Case Resolution', label='Resolving the base case', type='step', start=False, end=False), Entity(id='5', name='Result Construction', label='Constructing the final result', type='step', start=False, end=True)] relations=[Relation(source='1', target='2', type='leads to', name='Initial problem leads to recursive decomposition'), Relation(source='2', target='3', type='leads to', name='Recursive decomposition leads to iterative reduction'), Relation(source='3', target='4', type='leads to', name='Iterative reduction leads to base case resolution'), Relation(source='4', target='5', type='leads to', name='Base case resolution leads to result construction')]\n"
     ]
    }
   ],
   "source": [
    "SYSTEM_PROMPT = \"\"\"You are an expert in mathematical proof/reasoning analysis, specializing in extracting structured knowledge graph from mathematical texts. Your task is to identify key detailed steps in a mathematical proof and relationships in mathematical content and represent them as knowledge graph triplets.\"\"\"\n",
    "\n",
    "COURSE_PATTERN_PROMPT = \"\"\"\n",
    "Given the following mathematic course content in LaTeX format, extract the key steps of the mathematical proof in fine grainded detailed steps and structure these steps to form the knowledge graph triplets as the pattern of explanatory chain (reasoning) for this course.\n",
    "\n",
    "Focus on identifying:\n",
    "1. The steps of mathematical proof in informal language\n",
    "2. The relationships between these proof steps as a chain or sequence\n",
    "3. The typical structure and flow of mathematical proofs of this type\n",
    "4. Key steps and their relationships\n",
    "5. The final triplets of the knowledge graph should have a single or multiple start and single or multiple end nodes/entities which are the steps in the proof. Please make sure the final graph is a single connected component and have label of the start and end nodes/entities.\n",
    "\n",
    "Extract triplets in the form <Source Step/Entity, Relationship, Target Step/Entity> that represent this pattern.\n",
    "\n",
    "Course Content:\n",
    "```\n",
    "{proof}\n",
    "```\n",
    "\"\"\"\n",
    "\n",
    "# Extract the course pattern\n",
    "course_pattern = extract_triplets(\n",
    "    proof=course_latex,\n",
    "    custom_prompt=COURSE_PATTERN_PROMPT,\n",
    "    system_message=SYSTEM_PROMPT,\n",
    ")\n",
    "print(course_pattern)\n",
    "\n",
    "# Store the pattern in Neo4j\n",
    "neo4j = Neo4JUtils(\"bolt://localhost:7687\", (\"neo4j\", \"password\"))\n",
    "neo4j.clean_database()\n",
    "neo4j.store_triplets(course_pattern, \"course_pattern\")"
   ]
  },
  {
   "cell_type": "markdown",
   "id": "763d980b",
   "metadata": {},
   "source": [
    "## Phase 2: Proof Pattern Application\n",
    "\n",
    "Now we'll use the extracted pattern to construct knowledge graphs for specific proof examples."
   ]
  },
  {
   "cell_type": "code",
   "execution_count": 4,
   "id": "72d488b5",
   "metadata": {},
   "outputs": [
    {
     "data": {
      "text/latex": [
       "## Example 3: \\( 2 + 3 \\)\n",
       "Breaking down the recursion step-by-step:\n",
       "\\[\n",
       "    \\begin{aligned}\n",
       "        2 + 3 & = (2 + 2) + 1             \\\\\n",
       "              & = ((2 + 1) + 1) + 1       \\\\\n",
       "              & = (((2 + 0) + 1) + 1) + 1 \\\\\n",
       "              & = ((2 + 1) + 1) + 1       \\\\\n",
       "              & = (3 + 1) + 1             \\\\\n",
       "              & = 4 + 1                   \\\\\n",
       "              & = 5\n",
       "    \\end{aligned}\n",
       "\\]"
      ],
      "text/plain": [
       "<IPython.core.display.Latex object>"
      ]
     },
     "metadata": {},
     "output_type": "display_data"
    }
   ],
   "source": [
    "# Load a proof example\n",
    "proof_latex = read_proof(\"../../data/courses/addition/example3.tex\")\n",
    "\n",
    "# Extract content between \\begin{document} and \\end{document}\n",
    "start = proof_latex.find(r\"\\begin{document}\") + len(r\"\\begin{document}\")\n",
    "end = proof_latex.find(r\"\\end{document}\")\n",
    "proof = proof_latex[start:end].strip()\n",
    "\n",
    "# Convert LaTeX to markdown-like format\n",
    "proof = re.sub(r\"\\\\section\\{([^}]+)\\}\", r\"## \\1\", proof)\n",
    "proof = re.sub(r\"\\\\subsection\\{([^}]+)\\}\", r\"### \\1\", proof)\n",
    "\n",
    "# Display the proof\n",
    "display(Latex(proof))"
   ]
  },
  {
   "cell_type": "code",
   "execution_count": 14,
   "id": "4e94bb5a",
   "metadata": {},
   "outputs": [
    {
     "name": "stdout",
     "output_type": "stream",
     "text": [
      "[SystemMessage(content='You are a helpful assistant that extracts entities and relations from mathematical proofs.', additional_kwargs={}, response_metadata={}), HumanMessage(content=\"\\nGiven the following mathematical proof and the given pattern of mathematical proof extracted from the course, construct a knowledge graph that follows the given pattern.\\n\\nThe pattern components are:\\nentities=[Entity(id='1', name='Base Case', label='Base Case of Addition', type='axiom', start=True, end=False), Entity(id='2', name='Recursive Case', label='Recursive Case of Addition', type='axiom', start=False, end=False), Entity(id='3', name='Addition Definition', label='Definition of Addition', type='definition', start=False, end=True)] relations=[Relation(source='1', target='3', type='grounds', name='Base Case grounds the definition of addition'), Relation(source='2', target='3', type='grounds', name='Recursive Case grounds the definition of addition'), Relation(source='1', target='2', type='explains', name='Base Case explains the transition to Recursive Case')]\\n\\nFor the given proof, extract triplets in the form <Source Entity, Relationship, Target Entity> that:\\n1. Follow the structure of mathematical proof pattern\\n2. Map to the steps identified in the course pattern\\n3. Capture the specific details and relationships in this proof which may be different from the course pattern\\n\\nProof:\\n## Example 2: \\\\( 0 + 4 \\\\)\\nUsing the recursive definition:\\n\\\\[\\n    \\\\begin{aligned}\\n        0 + 4 & = (0 + 3) + 1                   \\\\\\\\\\n              & = ((0 + 2) + 1) + 1             \\\\\\\\\\n              & = (((0 + 1) + 1) + 1) + 1       \\\\\\\\\\n              & = ((((0 + 0) + 1) + 1) + 1) + 1 \\\\\\\\\\n              & = (((0 + 1) + 1) + 1) + 1       \\\\\\\\\\n              & = ((1 + 1) + 1) + 1             \\\\\\\\\\n              & = (2 + 1) + 1                   \\\\\\\\\\n              & = 3 + 1                         \\\\\\\\\\n              & = 4\\n    \\\\end{aligned}\\n\\\\]\\n\", additional_kwargs={}, response_metadata={})]\n",
      "[SystemMessage(content='You are an expert in mathematical proof analysis, specializing in extracting structured knowledge graph from mathematical texts. Your task is to identify key steps in a mathematical proof and relationships in mathematical content and represent them as knowledge graph triplets.', additional_kwargs={}, response_metadata={}), HumanMessage(content='\\nGiven the following mathematic course content in LaTeX format, extract the key steps of the mathematical proof in minimum steps and structure that form the knowledge graph triplets as the pattern of mathematical proofs for this course.\\n\\nFocus on identifying:\\n1. The core steps of mathematical proof\\n2. The relationships between these proof steps\\n3. The typical structure and flow of mathematical proofs of this type\\n4. Key steps and their relationships\\n5. The entities and relationships in the proof\\n6. The final triplets of the knowledge graph should have a single or multiple start and single or multiple end nodes/entities which are the steps in the proof. Please make sure the final graph is a single connected component and have label of the start and end nodes/entities.\\n\\nExtract triplets in the form <Source Step/Entity, Relationship, Target Step/Entity> that represent this pattern.\\n\\nCourse Content:\\n## Example 2: \\\\( 0 + 4 \\\\)\\nUsing the recursive definition:\\n\\\\[\\n    \\\\begin{aligned}\\n        0 + 4 & = (0 + 3) + 1                   \\\\\\\\\\n              & = ((0 + 2) + 1) + 1             \\\\\\\\\\n              & = (((0 + 1) + 1) + 1) + 1       \\\\\\\\\\n              & = ((((0 + 0) + 1) + 1) + 1) + 1 \\\\\\\\\\n              & = (((0 + 1) + 1) + 1) + 1       \\\\\\\\\\n              & = ((1 + 1) + 1) + 1             \\\\\\\\\\n              & = (2 + 1) + 1                   \\\\\\\\\\n              & = 3 + 1                         \\\\\\\\\\n              & = 4\\n    \\\\end{aligned}\\n\\\\]\\n', additional_kwargs={}, response_metadata={})]\n",
      "entities=[Entity(id='step1', name='0 + 4 = (0 + 3) + 1', label='Base Case', type='step', start=True, end=False), Entity(id='step2', name='(0 + 3) + 1 = ((0 + 2) + 1) + 1', label='Recursive Step 1', type='step', start=False, end=False), Entity(id='step3', name='((0 + 2) + 1) + 1 = (((0 + 1) + 1) + 1) + 1', label='Recursive Step 2', type='step', start=False, end=False), Entity(id='step4', name='(((0 + 1) + 1) + 1) + 1 = ((((0 + 0) + 1) + 1) + 1) + 1', label='Recursive Step 3', type='step', start=False, end=False), Entity(id='step5', name='((((0 + 0) + 1) + 1) + 1) + 1 = (((0 + 1) + 1) + 1) + 1', label='Base Case Revisited', type='step', start=False, end=False), Entity(id='step6', name='(((0 + 1) + 1) + 1) + 1 = ((1 + 1) + 1) + 1', label='Simplification Step 1', type='step', start=False, end=False), Entity(id='step7', name='((1 + 1) + 1) + 1 = (2 + 1) + 1', label='Simplification Step 2', type='step', start=False, end=False), Entity(id='step8', name='(2 + 1) + 1 = 3 + 1', label='Final Step', type='step', start=False, end=False), Entity(id='step9', name='3 + 1 = 4', label='Conclusion', type='step', start=False, end=True)] relations=[Relation(source='step1', target='step2', type='leads to', name='Apply recursive definition'), Relation(source='step2', target='step3', type='leads to', name='Continue recursion'), Relation(source='step3', target='step4', type='leads to', name='Continue recursion'), Relation(source='step4', target='step5', type='leads to', name='Base case reached'), Relation(source='step5', target='step6', type='leads to', name='Simplify expression'), Relation(source='step6', target='step7', type='leads to', name='Simplify expression'), Relation(source='step7', target='step8', type='leads to', name='Simplify expression'), Relation(source='step8', target='step9', type='leads to', name='Final calculation')]\n",
      "\n",
      "## Visualization and Analysis\n",
      "\n",
      "You can visualize and analyze the graphs in Neo4j Browser using these queries:\n",
      "\n",
      "### View Course Pattern:\n",
      "```cypher\n",
      "MATCH p=()-[r]->() \n",
      "WHERE r.graph_type = 'course_pattern' \n",
      "RETURN p\n",
      "```\n",
      "\n",
      "### View Proof Graph:\n",
      "```cypher\n",
      "MATCH p=()-[r]->() \n",
      "WHERE r.graph_type = 'proof_example' \n",
      "RETURN p\n",
      "```\n",
      "\n",
      "### View Both Graphs Side by Side:\n",
      "```cypher\n",
      "MATCH pattern=()-[r1]->() \n",
      "WHERE r1.graph_type = 'course_pattern'\n",
      "WITH collect(pattern) as patterns\n",
      "MATCH proof=()-[r2]->() \n",
      "WHERE r2.graph_type = 'proof_example'\n",
      "WITH patterns, collect(proof) as proofs\n",
      "RETURN patterns, proofs\n",
      "```\n",
      "\n"
     ]
    }
   ],
   "source": [
    "PROOF_PATTERN_APPLICATION_PROMPT = \"\"\"\n",
    "Given the following mathematical proof and the given pattern of mathematical proof extracted from the course, construct a knowledge graph that follows the given pattern.\n",
    "\n",
    "The pattern components are:\n",
    "{course_pattern}\n",
    "\n",
    "For the given proof, extract triplets in the form <Source Entity, Relationship, Target Entity> that:\n",
    "1. Follow the structure of mathematical proof pattern\n",
    "2. Map to the steps identified in the course pattern\n",
    "3. Capture the specific details and relationships in this proof which may be different from the course pattern\n",
    "\n",
    "Proof:\n",
    "{{proof}}\n",
    "\"\"\"\n",
    "\n",
    "# # Format the prompt with course_pattern\n",
    "# formatted_prompt = PROOF_PATTERN_APPLICATION_PROMPT.format(\n",
    "#     course_pattern=course_pattern\n",
    "# )\n",
    "\n",
    "# # Pass the formatted prompt and proof_content to extract_triplets\n",
    "# proof_triplets = extract_triplets(proof, formatted_prompt)\n",
    "\n",
    "# # # Apply the pattern to the proof\n",
    "# # proof_triplets = extract_triplets(proof_content, PROOF_PATTERN_APPLICATION_PROMPT)\n",
    "\n",
    "# # Store the proof graph in Neo4j\n",
    "# neo4j.store_triplets(proof_triplets, \"proof_example\")\n",
    "\n",
    "# Format the prompt with course_pattern\n",
    "formatted_prompt = PROOF_PATTERN_APPLICATION_PROMPT.format(\n",
    "    course_pattern=course_pattern\n",
    ")\n",
    "\n",
    "# Pass the formatted prompt and proof_content to extract_triplets\n",
    "proof_triplets = extract_triplets(proof, formatted_prompt)\n",
    "\n",
    "# Clean the database to remove any existing graphs\n",
    "neo4j.clean_database()\n",
    "\n",
    "# Store the course pattern graph\n",
    "neo4j.store_triplets(course_pattern, \"course_pattern\")\n",
    "\n",
    "# Store the proof graph as a separate graph\n",
    "neo4j.store_triplets(proof_triplets, \"proof_example\")\n",
    "\n",
    "\n",
    "# Extract the course pattern\n",
    "course_pattern = extract_triplets(\n",
    "    proof, custom_prompt=COURSE_PATTERN_PROMPT, system_message=SYSTEM_PROMPT\n",
    ")\n",
    "print(course_pattern)\n",
    "\n",
    "# Display visualization queries\n",
    "print(neo4j.get_visualization_queries())"
   ]
  },
  {
   "cell_type": "markdown",
   "id": "1efd42b5",
   "metadata": {},
   "source": [
    "## Visualization and Analysis\n",
    "\n",
    "You can visualize and analyze the graphs in Neo4j Browser using these queries:\n",
    "\n",
    "### View Course Pattern:\n",
    "```cypher\n",
    "MATCH p=()-[r]->() WHERE r.graph_type = 'course_pattern' RETURN p\n",
    "```\n",
    "\n",
    "### View Proof Graph:\n",
    "```cypher\n",
    "MATCH p=()-[r]->() WHERE r.graph_type = 'proof_example' RETURN p\n",
    "```\n",
    "\n",
    "### Compare Pattern and Proof:\n",
    "```cypher\n",
    "MATCH p=()-[r]->() RETURN p\n",
    "```"
   ]
  },
  {
   "cell_type": "markdown",
   "id": "03ff9175",
   "metadata": {},
   "source": []
  },
  {
   "cell_type": "markdown",
   "id": "5d23c448",
   "metadata": {},
   "source": []
  },
  {
   "cell_type": "markdown",
   "id": "58a55696",
   "metadata": {},
   "source": []
  },
  {
   "cell_type": "markdown",
   "id": "78696ce8",
   "metadata": {},
   "source": []
  }
 ],
 "metadata": {
  "kernelspec": {
   "display_name": ".venv",
   "language": "python",
   "name": "python3"
  },
  "language_info": {
   "codemirror_mode": {
    "name": "ipython",
    "version": 3
   },
   "file_extension": ".py",
   "mimetype": "text/x-python",
   "name": "python",
   "nbconvert_exporter": "python",
   "pygments_lexer": "ipython3",
   "version": "3.12.3"
  }
 },
 "nbformat": 4,
 "nbformat_minor": 5
}
